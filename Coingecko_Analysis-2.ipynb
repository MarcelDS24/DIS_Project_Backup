{
 "cells": [
  {
   "cell_type": "markdown",
   "metadata": {},
   "source": [
    "# Data Analysis CoinGecko"
   ]
  },
  {
   "cell_type": "markdown",
   "metadata": {},
   "source": [
    "## Initiate Connection"
   ]
  },
  {
   "cell_type": "code",
   "execution_count": 12,
   "metadata": {},
   "outputs": [
    {
     "name": "stdout",
     "output_type": "stream",
     "text": [
      "/workspaces\n",
      "The sql module is not an IPython extension.\n"
     ]
    },
    {
     "name": "stderr",
     "output_type": "stream",
     "text": [
      "UsageError: Line magic function `%sql` not found.\n"
     ]
    }
   ],
   "source": [
    "import pandas as pd\n",
    "import psycopg2\n",
    "import os\n",
    "import sys\n",
    "from sqlalchemy import create_engine\n",
    "\n",
    "parent_directory = os.path.abspath(os.path.join(os.getcwd(), \"../\"))\n",
    "print(parent_directory)\n",
    "sys.path.append(parent_directory)\n",
    "import credentials_Azure_DB\n",
    "connection_string = f\"postgresql://{credentials_Azure_DB.DB_USER}:{credentials_Azure_DB.DB_PASSWORD}@{credentials_Azure_DB.DB_HOST}/{credentials_Azure_DB.DB_NAME}\"\n",
    "\n",
    "connection = psycopg2.connect(connection_string)\n",
    "cursor = connection.cursor()\n",
    "%load_ext sql\n",
    "%sql $connection_string\n",
    "engine = create_engine(connection_string)\n"
   ]
  },
  {
   "cell_type": "code",
   "execution_count": null,
   "metadata": {},
   "outputs": [
    {
     "name": "stdout",
     "output_type": "stream",
     "text": [
      "bitcoin_prices DataFrame created successfully\n",
      "etherium_prices DataFrame created successfully\n",
      "solana_prices DataFrame created successfully\n",
      "tether_prices DataFrame created successfully\n",
      "shiba_inu_df_prices DataFrame created successfully\n"
     ]
    }
   ],
   "source": [
    "# Connect to the database using SQLAlchemy engine\n",
    "engine = create_engine(connection_string)\n",
    "\n",
    "# Query the database for the list of tables in the \"coingecko\" schema\n",
    "tables_query = \"\"\"\n",
    "SELECT table_name\n",
    "FROM information_schema.tables\n",
    "WHERE table_schema = 'coingecko';\n",
    "\"\"\"\n",
    "tables = pd.read_sql(tables_query, engine)\n",
    "\n",
    "# Iterate over the table names and load them into DataFrames\n",
    "for table_name in tables['table_name']:\n",
    "    query = f'SELECT * FROM coingecko.{table_name}'\n",
    "    globals()[table_name] = pd.read_sql(query, engine)\n",
    "    print(f'{table_name} DataFrame created successfully')\n",
    "\n"
   ]
  },
  {
   "cell_type": "markdown",
   "metadata": {},
   "source": [
    "# Price development of each coin"
   ]
  },
  {
   "cell_type": "code",
   "execution_count": null,
   "metadata": {},
   "outputs": [
    {
     "ename": "NameError",
     "evalue": "name 'bitcoin_prices' is not defined",
     "output_type": "error",
     "traceback": [
      "\u001b[0;31m---------------------------------------------------------------------------\u001b[0m",
      "\u001b[0;31mNameError\u001b[0m                                 Traceback (most recent call last)",
      "Cell \u001b[0;32mIn[1], line 8\u001b[0m\n\u001b[1;32m      5\u001b[0m     df[\u001b[38;5;124m'\u001b[39m\u001b[38;5;124mDate\u001b[39m\u001b[38;5;124m'\u001b[39m] \u001b[38;5;241m=\u001b[39m pd\u001b[38;5;241m.\u001b[39mto_datetime(df[\u001b[38;5;124m'\u001b[39m\u001b[38;5;124mTimestamp\u001b[39m\u001b[38;5;124m'\u001b[39m], unit\u001b[38;5;241m=\u001b[39m\u001b[38;5;124m'\u001b[39m\u001b[38;5;124mms\u001b[39m\u001b[38;5;124m'\u001b[39m)\n\u001b[1;32m      6\u001b[0m     \u001b[38;5;28;01mreturn\u001b[39;00m df\n\u001b[0;32m----> 8\u001b[0m bitcoin_prices \u001b[38;5;241m=\u001b[39m convert_timestamp_to_date(\u001b[43mbitcoin_prices\u001b[49m)\n\u001b[1;32m      9\u001b[0m etherium_prices \u001b[38;5;241m=\u001b[39m convert_timestamp_to_date(etherium_prices)\n\u001b[1;32m     10\u001b[0m solana_prices \u001b[38;5;241m=\u001b[39m convert_timestamp_to_date(solana_prices)\n",
      "\u001b[0;31mNameError\u001b[0m: name 'bitcoin_prices' is not defined"
     ]
    }
   ],
   "source": [
    "import matplotlib.pyplot as plt\n",
    "\n",
    "# Convert the 'Timestamp' columns to datetime for each DataFrame\n",
    "def convert_timestamp_to_date(df):\n",
    "    df['Date'] = pd.to_datetime(df['Timestamp'], unit='ms')\n",
    "    return df\n",
    "\n",
    "bitcoin_prices = convert_timestamp_to_date(bitcoin_prices)\n",
    "etherium_prices = convert_timestamp_to_date(etherium_prices)\n",
    "solana_prices = convert_timestamp_to_date(solana_prices)\n",
    "tether_prices = convert_timestamp_to_date(tether_prices)\n",
    "shiba_inu_df_prices = convert_timestamp_to_date(shiba_inu_df_prices)\n",
    "\n",
    "# Create subplots: 5 rows and 1 column\n",
    "fig, axs = plt.subplots(5, 1, figsize=(10, 20), sharex=True)\n",
    "\n",
    "# Plot each cryptocurrency price on a separate plot\n",
    "axs[0].plot(bitcoin_prices['Date'], bitcoin_prices['Prices'], color='orange')\n",
    "axs[0].set_title('Bitcoin Price Development', fontsize=14)\n",
    "axs[0].set_ylabel('Price (USD)', fontsize=12)\n",
    "axs[0].grid(True)\n",
    "\n",
    "axs[1].plot(etherium_prices['Date'], etherium_prices['Prices'], color='blue')\n",
    "axs[1].set_title('Ethereum Price Development', fontsize=14)\n",
    "axs[1].set_ylabel('Price (USD)', fontsize=12)\n",
    "axs[1].grid(True)\n",
    "\n",
    "axs[2].plot(solana_prices['Date'], solana_prices['Prices'], color='green')\n",
    "axs[2].set_title('Solana Price Development', fontsize=14)\n",
    "axs[2].set_ylabel('Price (USD)', fontsize=12)\n",
    "axs[2].grid(True)\n",
    "\n",
    "axs[3].plot(tether_prices['Date'], tether_prices['Prices'], color='red')\n",
    "axs[3].set_title('Tether Price Development', fontsize=14)\n",
    "axs[3].set_ylabel('Price (USD)', fontsize=12)\n",
    "axs[3].grid(True)\n",
    "\n",
    "axs[4].plot(shiba_inu_df_prices['Date'], shiba_inu_df_prices['Prices'], color='purple')\n",
    "axs[4].set_title('Shiba Inu Price Development', fontsize=14)\n",
    "axs[4].set_ylabel('Price (USD)', fontsize=12)\n",
    "axs[4].grid(True)\n",
    "\n",
    "# Set the x-axis label for all subplots\n",
    "plt.xlabel('Date', fontsize=12)\n",
    "plt.xticks(rotation=45)\n",
    "plt.xlim(\"2024-10-07\", \"2024-12-02\")\n",
    "\n",
    "# Adjust layout and show plot\n",
    "plt.tight_layout()\n",
    "plt.show()\n"
   ]
  },
  {
   "cell_type": "code",
   "execution_count": null,
   "metadata": {},
   "outputs": [],
   "source": []
  }
 ],
 "metadata": {
  "kernelspec": {
   "display_name": "Python 3",
   "language": "python",
   "name": "python3"
  },
  "language_info": {
   "codemirror_mode": {
    "name": "ipython",
    "version": 3
   },
   "file_extension": ".py",
   "mimetype": "text/x-python",
   "name": "python",
   "nbconvert_exporter": "python",
   "pygments_lexer": "ipython3",
   "version": "3.12.1"
  }
 },
 "nbformat": 4,
 "nbformat_minor": 2
}
